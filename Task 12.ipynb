{
 "cells": [
  {
   "cell_type": "code",
   "execution_count": 4,
   "metadata": {},
   "outputs": [
    {
     "name": "stdout",
     "output_type": "stream",
     "text": [
      "Введите данные 1-ой широты\n",
      "Введите Градусы: 50\n",
      "Введите Минуты: 27\n",
      "Введите Секунды: 16.9\n",
      "Введите данные 1-ой долготы\n",
      "Введите Градусы: 30\n",
      "Введите Минуты: 31\n",
      "Введите Секунды: 25.7\n",
      "Введите данные 2-ой широты\n",
      "Введите Градусы: 51\n",
      "Введите Минуты: 31\n",
      "Введите Секунды: 20\n",
      "Введите данные 2-ой долготы\n",
      "Введите Градусы: 0\n",
      "Введите Минуты: 7\n",
      "Введите Секунды: 0.2\n",
      "Расстояние между указанными координатами составляет: 2 км 116 метров\n"
     ]
    }
   ],
   "source": [
    "import math\n",
    "\n",
    "print('Введите данные 1-ой широты')\n",
    "\n",
    "a1 = float(input('Введите Градусы: ')) \n",
    "b1 = float(input('Введите Минуты: ')) / 60\n",
    "c1 = float(input('Введите Секунды: ')) / 3600\n",
    "\n",
    "print('Введите данные 1-ой долготы')\n",
    "\n",
    "a2 = float(input('Введите Градусы: ')) \n",
    "b2 = float(input('Введите Минуты: ')) / 60\n",
    "c2 = float(input('Введите Секунды: ')) / 3600\n",
    "\n",
    "print('Введите данные 2-ой широты')\n",
    "\n",
    "a3 = float(input('Введите Градусы: ')) \n",
    "b3 = float(input('Введите Минуты: ')) / 60\n",
    "c3 = float(input('Введите Секунды: ')) / 3600\n",
    "\n",
    "print('Введите данные 2-ой долготы')\n",
    "\n",
    "a4 = float(input('Введите Градусы: ')) \n",
    "b4 = float(input('Введите Минуты: ')) / 60\n",
    "c4 = float(input('Введите Секунды: ')) / 3600\n",
    "\n",
    "d1 = (a1 + b1 + c1)\n",
    "z1 = round(d1,4)\n",
    "d2 = (a2 + b2 + c2)\n",
    "z2 = round(d2,4)\n",
    "d3 = (a3 + b3 + c3)\n",
    "z3 = round(d3,4)\n",
    "d4 = (a4 + b4 + c4)\n",
    "z4 = round(d4,4)\n",
    "\n",
    "t1 = z1\n",
    "g1 = z2\n",
    "t2 = z3\n",
    "g2 = z4\n",
    "\n",
    "t1 = math.radians (t1)\n",
    "g1 = math.radians (g1)\n",
    "t2 = math.radians (t2)\n",
    "g2 = math.radians (g2)\n",
    "\n",
    "d = (6371.01 * math.acos(math.sin(t1) * math.sin(t2) + math.cos(t1) * math.cos(t2) * math.cos(g1 - g2)))\n",
    "num_1 = int(d // 1000)\n",
    "num_2 = float(d % 1000)\n",
    "x = round(num_2)\n",
    "print('Расстояние между указанными координатами составляет:', (num_1), 'км', (x), 'метров')\n"
   ]
  }
 ],
 "metadata": {
  "kernelspec": {
   "display_name": "Python 3",
   "language": "python",
   "name": "python3"
  },
  "language_info": {
   "codemirror_mode": {
    "name": "ipython",
    "version": 3
   },
   "file_extension": ".py",
   "mimetype": "text/x-python",
   "name": "python",
   "nbconvert_exporter": "python",
   "pygments_lexer": "ipython3",
   "version": "3.8.2"
  }
 },
 "nbformat": 4,
 "nbformat_minor": 4
}
