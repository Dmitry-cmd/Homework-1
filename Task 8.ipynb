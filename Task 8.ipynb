{
 "cells": [
  {
   "cell_type": "code",
   "execution_count": 30,
   "metadata": {},
   "outputs": [
    {
     "name": "stdout",
     "output_type": "stream",
     "text": [
      "Введите необходимое кол-во штуковин: 5\n",
      "Введите необходимое кол-во приколюшек: 12\n",
      "Общий вес составляет: 1719 грамм или 1 кг 719 грамм\n"
     ]
    }
   ],
   "source": [
    "W = int(input('Введите необходимое кол-во штуковин: '))\n",
    "G = int(input('Введите необходимое кол-во приколюшек: '))\n",
    "x1 = (75)\n",
    "x2 = (112)\n",
    "num_1 = (x1 * W)\n",
    "num_2 = (x2 * G)\n",
    "T = (num_1 + num_2)\n",
    "A1 = (T // 1000)\n",
    "A2 = (T % 1000)\n",
    "print('Общий вес составляет:', (T), 'грамм',\n",
    "                     'или',\n",
    "             (A1), 'кг', (A2), 'грамм')"
   ]
  }
 ],
 "metadata": {
  "kernelspec": {
   "display_name": "Python 3",
   "language": "python",
   "name": "python3"
  },
  "language_info": {
   "codemirror_mode": {
    "name": "ipython",
    "version": 3
   },
   "file_extension": ".py",
   "mimetype": "text/x-python",
   "name": "python",
   "nbconvert_exporter": "python",
   "pygments_lexer": "ipython3",
   "version": "3.8.2"
  }
 },
 "nbformat": 4,
 "nbformat_minor": 4
}
