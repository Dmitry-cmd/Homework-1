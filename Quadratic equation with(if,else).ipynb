{
 "cells": [
  {
   "cell_type": "code",
   "execution_count": 19,
   "metadata": {},
   "outputs": [
    {
     "name": "stdout",
     "output_type": "stream",
     "text": [
      "Квадратное уравнение имеет следующий вид: ax^2 + bx + c = 0\n",
      "a: 1\n",
      "b: -2\n",
      "c: -3\n",
      "x1= 3.0\n",
      "x2= -1.0\n"
     ]
    }
   ],
   "source": [
    "import math\n",
    "print('Квадратное уравнение имеет следующий вид: ax^2 + bx + c = 0')\n",
    "num_1 = float(input('a: '))\n",
    "num_2 = float(input('b: '))\n",
    "num_3 = float(input('c: '))\n",
    "D = float(pow(num_2,2) - 4 * num_1 * num_2)\n",
    "if D > 0:\n",
    "    x1 = float(round((-num_2 + math.sqrt(D)) / (2 * num_1)))\n",
    "    x2 = float(round((-num_2 - math.sqrt(D)) / (2 * num_1)))\n",
    "    print('x1=',(x1))\n",
    "    print('x2=',(x2))\n",
    "elif D == 0:\n",
    "    x = float(round((-num_2 / (2 * num_1))))\n",
    "    print('x=',(x))\n",
    "else:\n",
    "    print('Корней нет')"
   ]
  },
  {
   "cell_type": "code",
   "execution_count": 20,
   "metadata": {},
   "outputs": [
    {
     "name": "stdout",
     "output_type": "stream",
     "text": [
      "Квадратное уравнение имеет следующий вид: ax^2 + bx + c = 0\n",
      "a: 5\n",
      "b: 3\n",
      "c: 7\n",
      "Корней нет\n"
     ]
    }
   ],
   "source": [
    "import math\n",
    "print('Квадратное уравнение имеет следующий вид: ax^2 + bx + c = 0')\n",
    "num_1 = float(input('a: '))\n",
    "num_2 = float(input('b: '))\n",
    "num_3 = float(input('c: '))\n",
    "D = float(pow(num_2,2) - 4 * num_1 * num_2)\n",
    "if D > 0:\n",
    "    x1 = float(round((-num_2 + math.sqrt(D)) / (2 * num_1)))\n",
    "    x2 = float(round((-num_2 - math.sqrt(D)) / (2 * num_1)))\n",
    "    print('x1=',(x1))\n",
    "    print('x2=',(x2))\n",
    "elif D == 0:\n",
    "    x = float(round((-num_2 / (2 * num_1))))\n",
    "    print('x=',(x))\n",
    "else:\n",
    "    print('Корней нет')"
   ]
  },
  {
   "cell_type": "code",
   "execution_count": 26,
   "metadata": {},
   "outputs": [
    {
     "name": "stdout",
     "output_type": "stream",
     "text": [
      "Квадратное уравнение имеет следующий вид: ax^2 + bx + c = 0\n",
      "a: 1\n",
      "b: -6\n",
      "c: 9\n",
      "x1= 7.0\n",
      "x2= -1.0\n"
     ]
    }
   ],
   "source": [
    "import math\n",
    "print('Квадратное уравнение имеет следующий вид: ax^2 + bx + c = 0')\n",
    "num_1 = float(input('a: '))\n",
    "num_2 = float(input('b: '))\n",
    "num_3 = float(input('c: '))\n",
    "D = float(pow(num_2,2) - 4 * num_1 * num_2)\n",
    "if D > 0:\n",
    "    x1 = float(round((-num_2 + math.sqrt(D)) / (2 * num_1)))\n",
    "    x2 = float(round((-num_2 - math.sqrt(D)) / (2 * num_1)))\n",
    "    print('x1=',(x1))\n",
    "    print('x2=',(x2))\n",
    "elif D == 0:\n",
    "    x = float(round((-num_2 / (2 * num_1))))\n",
    "    print('x=',(x))\n",
    "else:\n",
    "    print('Корней нет')"
   ]
  },
  {
   "cell_type": "code",
   "execution_count": null,
   "metadata": {},
   "outputs": [],
   "source": []
  }
 ],
 "metadata": {
  "kernelspec": {
   "display_name": "Python 3",
   "language": "python",
   "name": "python3"
  },
  "language_info": {
   "codemirror_mode": {
    "name": "ipython",
    "version": 3
   },
   "file_extension": ".py",
   "mimetype": "text/x-python",
   "name": "python",
   "nbconvert_exporter": "python",
   "pygments_lexer": "ipython3",
   "version": "3.8.2"
  }
 },
 "nbformat": 4,
 "nbformat_minor": 4
}
