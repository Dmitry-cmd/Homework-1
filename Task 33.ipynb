{
 "cells": [
  {
   "cell_type": "code",
   "execution_count": 5,
   "metadata": {},
   "outputs": [
    {
     "name": "stdout",
     "output_type": "stream",
     "text": [
      "Одна буханка стоит 3,49 за штуку\n",
      "Поскольку хлеб вчерашний, на него распространяется скидка в 60%\n",
      "Сколько буханок хлеба Вы желаете купить?: 10\n",
      "Сумма к оплате за свежий хлеб: 34.9\n",
      "Сумма к оплате за вчерашний хлеб: 13.96\n"
     ]
    }
   ],
   "source": [
    "print('Одна буханка стоит 3,49 за штуку')\n",
    "print('Поскольку хлеб вчерашний, на него распространяется скидка в 60%')\n",
    "num = int(input('Сколько буханок хлеба Вы желаете купить?: '))\n",
    "T1 = float(num * 3.49)\n",
    "T2 = float(T1 * 0.40)\n",
    "T3 = round(T1,2)\n",
    "T4 = round(T2,2)\n",
    "print('Сумма к оплате за свежий хлеб:', (T3))\n",
    "print('Сумма к оплате за вчерашний хлеб:', (T4))"
   ]
  }
 ],
 "metadata": {
  "kernelspec": {
   "display_name": "Python 3",
   "language": "python",
   "name": "python3"
  },
  "language_info": {
   "codemirror_mode": {
    "name": "ipython",
    "version": 3
   },
   "file_extension": ".py",
   "mimetype": "text/x-python",
   "name": "python",
   "nbconvert_exporter": "python",
   "pygments_lexer": "ipython3",
   "version": "3.8.2"
  }
 },
 "nbformat": 4,
 "nbformat_minor": 4
}
